{
 "cells": [
  {
   "cell_type": "code",
   "execution_count": 2,
   "metadata": {},
   "outputs": [],
   "source": [
    "import numpy as np\n",
    "from read_vis_class import Read_File\n",
    "from astropy.io import fits\n",
    "from astropy.io import ascii\n",
    "from astropy.cosmology import FlatLambdaCDM"
   ]
  },
  {
   "cell_type": "code",
   "execution_count": 19,
   "metadata": {},
   "outputs": [
    {
     "name": "stderr",
     "output_type": "stream",
     "text": [
      "WARNING: UnitsWarning: '[10-7W]' did not parse as cds unit: Syntax error If this is meant to be a custom unit, define it with 'u.def_unit'. To have it recognized inside a file reader or other code, enable it with 'u.add_enabled_units'. For details, see https://docs.astropy.org/en/latest/units/combining_and_defining.html [astropy.units.core]\n"
     ]
    }
   ],
   "source": [
    "inf = ascii.read('/Users/connor_auge/Research/Disertation/AHA_SED_paper1_materials/Tables/datafileA1.txt')"
   ]
  },
  {
   "cell_type": "code",
   "execution_count": 3,
   "metadata": {},
   "outputs": [],
   "source": [
    "field = np.asarray(inf['Field'])\n",
    "xid = np.asarray(inf['xID'])[field == 'Stripe82X']\n",
    "rah = np.asarray(inf['RAh'])[field == 'Stripe82X']\n",
    "ram = np.asarray(inf['RAm'])[field == 'Stripe82X']\n",
    "ras = np.asarray(inf['RAs'])[field == 'Stripe82X'] \n",
    "de = np.asarray(inf['DE-'])[field == 'Stripe82X']\n",
    "ded = np.asarray(inf['DEd'])[field == 'Stripe82X'] \n",
    "dem = np.asarray(inf['DEm'])[field == 'Stripe82X']\n",
    "des = np.asarray(inf['DEs'])[field == 'Stripe82X']\n",
    "z = np.asarray(inf['zspec'])[field == 'Stripe82X']"
   ]
  },
  {
   "cell_type": "code",
   "execution_count": 26,
   "metadata": {},
   "outputs": [],
   "source": [
    "field = np.asarray(inf['Field'])\n",
    "xid = np.asarray(inf['xID'])[field == 'COSMOS']\n",
    "phot_id = np.asarray(inf['photID'])[field == 'COSMOS']\n",
    "rah = np.asarray(inf['RAh'])[field == 'COSMOS']\n",
    "ram = np.asarray(inf['RAm'])[field == 'COSMOS']\n",
    "ras = np.asarray(inf['RAs'])[field == 'COSMOS'] \n",
    "de = np.asarray(inf['DE-'])[field == 'COSMOS']\n",
    "ded = np.asarray(inf['DEd'])[field == 'COSMOS'] \n",
    "dem = np.asarray(inf['DEm'])[field == 'COSMOS']\n",
    "des = np.asarray(inf['DEs'])[field == 'COSMOS']\n",
    "z = np.asarray(inf['zspec'])[field == 'COSMOS']"
   ]
  },
  {
   "cell_type": "code",
   "execution_count": 27,
   "metadata": {},
   "outputs": [
    {
     "name": "stdout",
     "output_type": "stream",
     "text": [
      "9:59:45.0307428\n",
      "+1:28:28.6445203\n"
     ]
    }
   ],
   "source": [
    "print(f'{rah[0]}:{ram[0]}:{ras[0]}')\n",
    "print(f'{de[0]}{ded[0]}:{dem[0]}:{des[0]}')\n"
   ]
  },
  {
   "cell_type": "code",
   "execution_count": 28,
   "metadata": {},
   "outputs": [
    {
     "name": "stdout",
     "output_type": "stream",
     "text": [
      "9:59:46.77120499\n",
      "+2:4:41.56135932\n"
     ]
    }
   ],
   "source": [
    "print(f'{rah[210]}:{ram[210]}:{ras[210]}')\n",
    "print(f'{de[210]}{ded[210]}:{dem[210]}:{des[210]}')"
   ]
  },
  {
   "cell_type": "code",
   "execution_count": 29,
   "metadata": {},
   "outputs": [],
   "source": [
    "def dist_to_arcsec(z):\n",
    "    cosmo = FlatLambdaCDM(H0=70, Om0=0.29, Tcmb0=2.725)\n",
    "    dl = cosmo.luminosity_distance(z).value  # Distance in Mpc\n",
    "    dl_kpc = dl*1000\n",
    "\n",
    "    theta = 70/dl_kpc*206265\n",
    "\n",
    "    for i in range(len(theta)):\n",
    "        if theta[i] < 5:\n",
    "            theta[i] = 5\n",
    "    \n",
    "    return np.asarray(theta,dtype=int)\n",
    "\n",
    "arcsec = dist_to_arcsec(z)"
   ]
  },
  {
   "cell_type": "code",
   "execution_count": null,
   "metadata": {},
   "outputs": [],
   "source": []
  },
  {
   "cell_type": "code",
   "execution_count": 17,
   "metadata": {},
   "outputs": [],
   "source": [
    "outf = open('/Users/connor_auge/Research/Disertation/morphology/visual/S82X/HSC_coord_list_g2.txt','w')\n",
    "outf.writelines('#? rerun    filter    ra    dec    sw    sh    nodata    name\\n')\n",
    "for i in range(len(xid)):\n",
    "    outf.writelines('%s    %s    %s    %s    %s    %s    %s    %s\\n' % ('pdr3_wide','HSC-G',str(rah[i])+':'+str(ram[i])+':'+str(ras[i]),\n",
    "                                                                        str(de[i])+str(ded[i])+':'+str(dem[i])+':'+str(des[i]), \n",
    "                                                                        f'{arcsec[i]}arcsec', f'{arcsec[i]}arcsec', True, str(xid[i])))\n",
    "                                                                        # '5asec','5asec','True',str(xid[i])))\n",
    "outf.close()"
   ]
  },
  {
   "cell_type": "code",
   "execution_count": 31,
   "metadata": {},
   "outputs": [],
   "source": [
    "outf = open('/Users/connor_auge/Research/Disertation/morphology/visual/COSMOS/HSC_coord_list_r.txt','w')\n",
    "outf.writelines('#? rerun    filter    ra    dec    sw    sh    nodata    name\\n')\n",
    "for i in range(len(xid)):\n",
    "    outf.writelines('%s    %s    %s    %s    %s    %s    %s    %s\\n' % ('pdr3_wide','HSC-R',str(rah[i])+':'+str(ram[i])+':'+str(ras[i]),\n",
    "                                                                        str(de[i])+str(ded[i])+':'+str(dem[i])+':'+str(des[i]), \n",
    "                                                                        f'{arcsec[i]}arcsec', f'{arcsec[i]}arcsec', True, str(phot_id[i])))\n",
    "                                                                        # '5asec','5asec','True',str(xid[i])))\n",
    "outf.close()"
   ]
  },
  {
   "cell_type": "code",
   "execution_count": 15,
   "metadata": {},
   "outputs": [
    {
     "data": {
      "text/plain": [
       "'0:56:27.48046875'"
      ]
     },
     "execution_count": 15,
     "metadata": {},
     "output_type": "execute_result"
    }
   ],
   "source": [
    "str(rah[0])+':'+str(ram[0])+':'+str(ras[0])"
   ]
  },
  {
   "cell_type": "code",
   "execution_count": 16,
   "metadata": {},
   "outputs": [
    {
     "data": {
      "text/plain": [
       "'-0:21:11.48852348'"
      ]
     },
     "execution_count": 16,
     "metadata": {},
     "output_type": "execute_result"
    }
   ],
   "source": [
    "str(de[0])+str(ded[0])+':'+str(dem[0])+':'+str(des[0])"
   ]
  },
  {
   "cell_type": "code",
   "execution_count": 2,
   "metadata": {},
   "outputs": [],
   "source": [
    "inf = Read_File('Auge_COSMOS_classifications_read.xlsx')\n",
    "inf.open(type='xlsx')\n"
   ]
  },
  {
   "cell_type": "code",
   "execution_count": 3,
   "metadata": {},
   "outputs": [],
   "source": [
    "cols = inf.columns()\n",
    "data = inf.data()\n",
    "notes = inf.notes()"
   ]
  },
  {
   "cell_type": "code",
   "execution_count": 4,
   "metadata": {},
   "outputs": [
    {
     "data": {
      "text/plain": [
       "array(['ID', 'Disk', 'Disk-Spheroid', 'Spheroid', 'Irregular', 'PS',\n",
       "       'Unclassifiable', 'Blank', 'Merger_flag', 'TF_flag', 'PS_flag'],\n",
       "      dtype=object)"
      ]
     },
     "execution_count": 4,
     "metadata": {},
     "output_type": "execute_result"
    }
   ],
   "source": [
    "cols"
   ]
  },
  {
   "cell_type": "code",
   "execution_count": 5,
   "metadata": {},
   "outputs": [
    {
     "name": "stdout",
     "output_type": "stream",
     "text": [
      "11\n",
      "11\n"
     ]
    }
   ],
   "source": [
    "print(len(cols))\n",
    "print(len(data[0]))"
   ]
  },
  {
   "cell_type": "code",
   "execution_count": 8,
   "metadata": {},
   "outputs": [
    {
     "data": {
      "text/plain": [
       "array([[123228.0, nan, nan, ..., nan, nan, nan],\n",
       "       [128954.0, nan, nan, ..., nan, nan, nan],\n",
       "       [150058.0, nan, nan, ..., nan, nan, nan],\n",
       "       ...,\n",
       "       [1046875.0, nan, nan, ..., nan, nan, nan],\n",
       "       [1047454.0, nan, nan, ..., nan, nan, nan],\n",
       "       [1057210.0, nan, nan, ..., nan, nan, nan]], dtype=object)"
      ]
     },
     "execution_count": 8,
     "metadata": {},
     "output_type": "execute_result"
    }
   ],
   "source": [
    "data"
   ]
  },
  {
   "cell_type": "code",
   "execution_count": 9,
   "metadata": {},
   "outputs": [
    {
     "data": {
      "text/plain": [
       "array([123228.0, nan, nan, nan, nan, nan, nan, 'x', nan, nan, nan],\n",
       "      dtype=object)"
      ]
     },
     "execution_count": 9,
     "metadata": {},
     "output_type": "execute_result"
    }
   ],
   "source": [
    "data[0]"
   ]
  },
  {
   "cell_type": "code",
   "execution_count": 2,
   "metadata": {},
   "outputs": [],
   "source": [
    "a = np.arange(10,15,1)\n",
    "b = np.arange(0,5,1)\n",
    "c = np.array([np.arange(0,5,1),np.arange(20,25,1),np.arange(50,55,1),np.arange(60,65,1),np.arange(80,85,1)])\n",
    "test_dict = dict.fromkeys(a)"
   ]
  },
  {
   "cell_type": "code",
   "execution_count": 3,
   "metadata": {},
   "outputs": [],
   "source": [
    "for i in range(len(a)):\n",
    "    # if test_dict[a[i]] == None:\n",
    "    test_dict[a[i]] = c[i]\n",
    "    # else:\n",
    "    #     test_dict[a[i]].append(b[i])"
   ]
  },
  {
   "cell_type": "code",
   "execution_count": 4,
   "metadata": {},
   "outputs": [
    {
     "data": {
      "text/plain": [
       "{10: array([0, 1, 2, 3, 4]),\n",
       " 11: array([20, 21, 22, 23, 24]),\n",
       " 12: array([50, 51, 52, 53, 54]),\n",
       " 13: array([60, 61, 62, 63, 64]),\n",
       " 14: array([80, 81, 82, 83, 84])}"
      ]
     },
     "execution_count": 4,
     "metadata": {},
     "output_type": "execute_result"
    }
   ],
   "source": [
    "test_dict"
   ]
  },
  {
   "cell_type": "code",
   "execution_count": 15,
   "metadata": {},
   "outputs": [
    {
     "data": {
      "text/plain": [
       "[10, 11, 12, 13, 14]"
      ]
     },
     "execution_count": 15,
     "metadata": {},
     "output_type": "execute_result"
    }
   ],
   "source": [
    "list(test_dict.keys())"
   ]
  },
  {
   "cell_type": "code",
   "execution_count": 17,
   "metadata": {},
   "outputs": [
    {
     "data": {
      "text/plain": [
       "5"
      ]
     },
     "execution_count": 17,
     "metadata": {},
     "output_type": "execute_result"
    }
   ],
   "source": [
    "len(test_dict.values())"
   ]
  },
  {
   "cell_type": "code",
   "execution_count": 18,
   "metadata": {},
   "outputs": [
    {
     "data": {
      "text/plain": [
       "dict_values([array([0, 1, 2, 3, 4]), array([20, 21, 22, 23, 24]), array([50, 51, 52, 53, 54]), array([60, 61, 62, 63, 64]), array([80, 81, 82, 83, 84])])"
      ]
     },
     "execution_count": 18,
     "metadata": {},
     "output_type": "execute_result"
    }
   ],
   "source": [
    "test_dict.values()"
   ]
  },
  {
   "cell_type": "code",
   "execution_count": 3,
   "metadata": {},
   "outputs": [],
   "source": [
    "a = np.array([1,2,3,4,0])\n",
    "b = np.array([1,1,1,1,1])\n",
    "\n",
    "c = np.array([a,b])"
   ]
  },
  {
   "cell_type": "code",
   "execution_count": 4,
   "metadata": {},
   "outputs": [
    {
     "data": {
      "text/plain": [
       "array([[1, 2, 3, 4, 0],\n",
       "       [1, 1, 1, 1, 1]])"
      ]
     },
     "execution_count": 4,
     "metadata": {},
     "output_type": "execute_result"
    }
   ],
   "source": [
    "c"
   ]
  },
  {
   "cell_type": "code",
   "execution_count": 5,
   "metadata": {},
   "outputs": [
    {
     "data": {
      "text/plain": [
       "array([1, 2, 3, 4, 0, 1, 1, 1, 1, 1])"
      ]
     },
     "execution_count": 5,
     "metadata": {},
     "output_type": "execute_result"
    }
   ],
   "source": [
    "np.concatenate(c)"
   ]
  },
  {
   "cell_type": "code",
   "execution_count": 7,
   "metadata": {},
   "outputs": [
    {
     "data": {
      "text/plain": [
       "array([2, 3, 4, 5, 1])"
      ]
     },
     "execution_count": 7,
     "metadata": {},
     "output_type": "execute_result"
    }
   ],
   "source": [
    "np.sum(c,axis=0)"
   ]
  },
  {
   "cell_type": "code",
   "execution_count": 15,
   "metadata": {},
   "outputs": [
    {
     "data": {
      "text/plain": [
       "'00123'"
      ]
     },
     "execution_count": 15,
     "metadata": {},
     "output_type": "execute_result"
    }
   ],
   "source": [
    "a = np.asarray(['abc_123','abc_00123'])\n",
    "\n",
    "a[1][4:]"
   ]
  },
  {
   "cell_type": "code",
   "execution_count": 9,
   "metadata": {},
   "outputs": [
    {
     "data": {
      "text/plain": [
       "array(['abc_123', 'abc_00123'], dtype='<U9')"
      ]
     },
     "execution_count": 9,
     "metadata": {},
     "output_type": "execute_result"
    }
   ],
   "source": []
  },
  {
   "cell_type": "code",
   "execution_count": null,
   "metadata": {},
   "outputs": [],
   "source": []
  }
 ],
 "metadata": {
  "kernelspec": {
   "display_name": "py39",
   "language": "python",
   "name": "python3"
  },
  "language_info": {
   "codemirror_mode": {
    "name": "ipython",
    "version": 3
   },
   "file_extension": ".py",
   "mimetype": "text/x-python",
   "name": "python",
   "nbconvert_exporter": "python",
   "pygments_lexer": "ipython3",
   "version": "3.9.12"
  }
 },
 "nbformat": 4,
 "nbformat_minor": 2
}
