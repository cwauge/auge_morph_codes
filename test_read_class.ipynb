{
 "cells": [
  {
   "cell_type": "code",
   "execution_count": 1,
   "metadata": {},
   "outputs": [],
   "source": [
    "import numpy as np\n",
    "from read_vis_class import Read_File\n"
   ]
  },
  {
   "cell_type": "code",
   "execution_count": 2,
   "metadata": {},
   "outputs": [],
   "source": [
    "inf = Read_File('Auge_COSMOS_classifications_read.xlsx')\n",
    "inf.open(type='xlsx')\n"
   ]
  },
  {
   "cell_type": "code",
   "execution_count": 3,
   "metadata": {},
   "outputs": [],
   "source": [
    "cols = inf.columns()\n",
    "data = inf.data()\n",
    "notes = inf.notes()"
   ]
  },
  {
   "cell_type": "code",
   "execution_count": 4,
   "metadata": {},
   "outputs": [
    {
     "data": {
      "text/plain": [
       "array(['ID', 'Disk', 'Disk-Spheroid', 'Spheroid', 'Irregular', 'PS',\n",
       "       'Unclassifiable', 'Blank', 'Merger_flag', 'TF_flag', 'PS_flag'],\n",
       "      dtype=object)"
      ]
     },
     "execution_count": 4,
     "metadata": {},
     "output_type": "execute_result"
    }
   ],
   "source": [
    "cols"
   ]
  },
  {
   "cell_type": "code",
   "execution_count": 5,
   "metadata": {},
   "outputs": [
    {
     "name": "stdout",
     "output_type": "stream",
     "text": [
      "11\n",
      "11\n"
     ]
    }
   ],
   "source": [
    "print(len(cols))\n",
    "print(len(data[0]))"
   ]
  },
  {
   "cell_type": "code",
   "execution_count": 8,
   "metadata": {},
   "outputs": [
    {
     "data": {
      "text/plain": [
       "array([[123228.0, nan, nan, ..., nan, nan, nan],\n",
       "       [128954.0, nan, nan, ..., nan, nan, nan],\n",
       "       [150058.0, nan, nan, ..., nan, nan, nan],\n",
       "       ...,\n",
       "       [1046875.0, nan, nan, ..., nan, nan, nan],\n",
       "       [1047454.0, nan, nan, ..., nan, nan, nan],\n",
       "       [1057210.0, nan, nan, ..., nan, nan, nan]], dtype=object)"
      ]
     },
     "execution_count": 8,
     "metadata": {},
     "output_type": "execute_result"
    }
   ],
   "source": [
    "data"
   ]
  },
  {
   "cell_type": "code",
   "execution_count": 9,
   "metadata": {},
   "outputs": [
    {
     "data": {
      "text/plain": [
       "array([123228.0, nan, nan, nan, nan, nan, nan, 'x', nan, nan, nan],\n",
       "      dtype=object)"
      ]
     },
     "execution_count": 9,
     "metadata": {},
     "output_type": "execute_result"
    }
   ],
   "source": [
    "data[0]"
   ]
  },
  {
   "cell_type": "code",
   "execution_count": 61,
   "metadata": {},
   "outputs": [],
   "source": [
    "a = np.arange(10,15,1)\n",
    "b = np.arange(0,5,1)\n",
    "c = np.array([np.arange(0,5,1),np.arange(20,25,1),np.arange(50,55,1),np.arange(60,65,1),np.arange(80,85,1)])\n",
    "test_dict = dict.fromkeys(a)"
   ]
  },
  {
   "cell_type": "code",
   "execution_count": 62,
   "metadata": {},
   "outputs": [],
   "source": [
    "for i in range(len(a)):\n",
    "    # if test_dict[a[i]] == None:\n",
    "    test_dict[a[i]] = c[i]\n",
    "    # else:\n",
    "    #     test_dict[a[i]].append(b[i])"
   ]
  },
  {
   "cell_type": "code",
   "execution_count": 63,
   "metadata": {},
   "outputs": [
    {
     "data": {
      "text/plain": [
       "{10: array([0, 1, 2, 3, 4]),\n",
       " 11: array([20, 21, 22, 23, 24]),\n",
       " 12: array([50, 51, 52, 53, 54]),\n",
       " 13: array([60, 61, 62, 63, 64]),\n",
       " 14: array([80, 81, 82, 83, 84])}"
      ]
     },
     "execution_count": 63,
     "metadata": {},
     "output_type": "execute_result"
    }
   ],
   "source": [
    "test_dict"
   ]
  },
  {
   "cell_type": "code",
   "execution_count": null,
   "metadata": {},
   "outputs": [],
   "source": []
  }
 ],
 "metadata": {
  "kernelspec": {
   "display_name": "py39",
   "language": "python",
   "name": "python3"
  },
  "language_info": {
   "codemirror_mode": {
    "name": "ipython",
    "version": 3
   },
   "file_extension": ".py",
   "mimetype": "text/x-python",
   "name": "python",
   "nbconvert_exporter": "python",
   "pygments_lexer": "ipython3",
   "version": "3.9.12"
  }
 },
 "nbformat": 4,
 "nbformat_minor": 2
}
